{
 "cells": [
  {
   "cell_type": "code",
   "execution_count": 4,
   "id": "9eb6e3c9",
   "metadata": {},
   "outputs": [
    {
     "name": "stdout",
     "output_type": "stream",
     "text": [
      "Requirement already satisfied: polars in c:\\users\\samer\\anaconda3\\lib\\site-packages (1.28.0)\n",
      "Note: you may need to restart the kernel to use updated packages.\n"
     ]
    }
   ],
   "source": [
    "%pip install polars"
   ]
  },
  {
   "cell_type": "code",
   "execution_count": 8,
   "id": "e41152e1",
   "metadata": {},
   "outputs": [],
   "source": [
    "import polars as pl\n",
    "import numpy as np\n",
    "import pandas as pd"
   ]
  },
  {
   "cell_type": "code",
   "execution_count": null,
   "id": "5cbc3b91",
   "metadata": {},
   "outputs": [
    {
     "name": "stdout",
     "output_type": "stream",
     "text": [
      "shape: (3, 3)\n",
      "┌─────────┬─────┬─────────┐\n",
      "│ name    ┆ age ┆ city    │\n",
      "│ ---     ┆ --- ┆ ---     │\n",
      "│ str     ┆ i64 ┆ str     │\n",
      "╞═════════╪═════╪═════════╡\n",
      "│ Alice   ┆ 25  ┆ Prague  │\n",
      "│ Bob     ┆ 30  ┆ Brno    │\n",
      "│ Charlie ┆ 35  ┆ Ostrava │\n",
      "└─────────┴─────┴─────────┘\n",
      "shape: (2, 3)\n",
      "┌─────────┬─────┬─────────┐\n",
      "│ name    ┆ age ┆ city    │\n",
      "│ ---     ┆ --- ┆ ---     │\n",
      "│ str     ┆ i64 ┆ str     │\n",
      "╞═════════╪═════╪═════════╡\n",
      "│ Bob     ┆ 30  ┆ Brno    │\n",
      "│ Charlie ┆ 35  ┆ Ostrava │\n",
      "└─────────┴─────┴─────────┘\n",
      "shape: (3, 4)\n",
      "┌─────────┬─────┬─────────┬────────────┐\n",
      "│ name    ┆ age ┆ city    ┆ double_age │\n",
      "│ ---     ┆ --- ┆ ---     ┆ ---        │\n",
      "│ str     ┆ i64 ┆ str     ┆ i64        │\n",
      "╞═════════╪═════╪═════════╪════════════╡\n",
      "│ Alice   ┆ 25  ┆ Prague  ┆ 50         │\n",
      "│ Bob     ┆ 30  ┆ Brno    ┆ 60         │\n",
      "│ Charlie ┆ 35  ┆ Ostrava ┆ 70         │\n",
      "└─────────┴─────┴─────────┴────────────┘\n"
     ]
    }
   ],
   "source": [
    "\n",
    "\n",
    "# Vytvoření datového rámce\n",
    "df = pl.DataFrame({\n",
    "    \"name\": [\"Alice\", \"Bob\", \"Charlie\"],\n",
    "    \"age\": [25, 30, 35],\n",
    "    \"city\": [\"Prague\", \"Brno\", \"Ostrava\"]\n",
    "})\n",
    "\n",
    "# Zobrazení datového rámce\n",
    "print(df)\n",
    "\n",
    "# Filtrování dat\n",
    "filtered_df = df.filter(pl.col(\"age\") > 28)\n",
    "print(filtered_df)\n",
    "\n",
    "# Přidání nového sloupce\n",
    "df = df.with_columns((pl.col(\"age\") * 2).alias(\"double_age\"))\n",
    "print(df)"
   ]
  },
  {
   "cell_type": "code",
   "execution_count": 12,
   "id": "2512b88c",
   "metadata": {},
   "outputs": [
    {
     "name": "stdout",
     "output_type": "stream",
     "text": [
      "121 ms ± 33.7 ms per loop (mean ± std. dev. of 7 runs, 1 loop each)\n"
     ]
    }
   ],
   "source": [
    "%%timeit\n",
    "df_pd = pd.DataFrame({\"id\": np.arange(1, 1_000_001), \n",
    "                      \"category\": np.random.choice([\"A\", \"B\", \"C\"], size=1_000_000), \n",
    "                      \"value\": np.random.uniform(0, 100, size=1_000_000)})\n",
    "df_pd.head()"
   ]
  },
  {
   "cell_type": "code",
   "execution_count": 15,
   "id": "3105c68a",
   "metadata": {},
   "outputs": [
    {
     "name": "stdout",
     "output_type": "stream",
     "text": [
      "585 ms ± 21.6 ms per loop (mean ± std. dev. of 7 runs, 1 loop each)\n"
     ]
    }
   ],
   "source": [
    "%%timeit\n",
    "df_pl = pl.DataFrame({\"id\": np.arange(1, 1_000_001), \n",
    "                      \"category\": np.random.choice([\"A\", \"B\", \"C\"], size=1_000_000), \n",
    "                      \"value\": np.random.uniform(0, 100, size=1_000_000)})"
   ]
  },
  {
   "cell_type": "code",
   "execution_count": null,
   "id": "d781428e",
   "metadata": {},
   "outputs": [
    {
     "name": "stdout",
     "output_type": "stream",
     "text": [
      "128 ms ± 10.9 ms per loop (mean ± std. dev. of 7 runs, 10 loops each)\n"
     ]
    },
    {
     "ename": "NameError",
     "evalue": "name 'df_pl' is not defined",
     "output_type": "error",
     "traceback": [
      "\u001b[1;31m---------------------------------------------------------------------------\u001b[0m",
      "\u001b[1;31mNameError\u001b[0m                                 Traceback (most recent call last)",
      "Cell \u001b[1;32mIn[17], line 5\u001b[0m\n\u001b[0;32m      2\u001b[0m get_ipython()\u001b[38;5;241m.\u001b[39mrun_line_magic(\u001b[38;5;124m'\u001b[39m\u001b[38;5;124mtimeit\u001b[39m\u001b[38;5;124m'\u001b[39m, \u001b[38;5;124m'\u001b[39m\u001b[38;5;124mdf_pd_filtered = df_pd[(df_pd[\u001b[39m\u001b[38;5;124m\"\u001b[39m\u001b[38;5;124mcategory\u001b[39m\u001b[38;5;124m\"\u001b[39m\u001b[38;5;124m] == \u001b[39m\u001b[38;5;124m\"\u001b[39m\u001b[38;5;124mB\u001b[39m\u001b[38;5;124m\"\u001b[39m\u001b[38;5;124m) & (df_pd[\u001b[39m\u001b[38;5;124m\"\u001b[39m\u001b[38;5;124mvalue\u001b[39m\u001b[38;5;124m\"\u001b[39m\u001b[38;5;124m] > 50)]\u001b[39m\u001b[38;5;124m'\u001b[39m)\n\u001b[0;32m      4\u001b[0m \u001b[38;5;66;03m# Polars verze\u001b[39;00m\n\u001b[1;32m----> 5\u001b[0m df_pl_filtered \u001b[38;5;241m=\u001b[39m df_pl\u001b[38;5;241m.\u001b[39mfilter((pl\u001b[38;5;241m.\u001b[39mcol(\u001b[38;5;124m\"\u001b[39m\u001b[38;5;124mcategory\u001b[39m\u001b[38;5;124m\"\u001b[39m) \u001b[38;5;241m==\u001b[39m \u001b[38;5;124m\"\u001b[39m\u001b[38;5;124mB\u001b[39m\u001b[38;5;124m\"\u001b[39m) \u001b[38;5;241m&\u001b[39m (pl\u001b[38;5;241m.\u001b[39mcol(\u001b[38;5;124m\"\u001b[39m\u001b[38;5;124mvalue\u001b[39m\u001b[38;5;124m\"\u001b[39m) \u001b[38;5;241m>\u001b[39m \u001b[38;5;241m50\u001b[39m))\n",
      "\u001b[1;31mNameError\u001b[0m: name 'df_pl' is not defined"
     ]
    }
   ],
   "source": [
    "# Pandas verze\n",
    "%timeit df_pd_filtered = df_pd[(df_pd[\"category\"] == \"B\") & (df_pd[\"value\"] > 50)]\n",
    "\n",
    "# Polars verze\n",
    "%timeit df_pl_filtered = df_pl.filter((pl.col(\"category\") == \"B\") & (pl.col(\"value\") > 50))"
   ]
  }
 ],
 "metadata": {
  "kernelspec": {
   "display_name": "base",
   "language": "python",
   "name": "python3"
  },
  "language_info": {
   "codemirror_mode": {
    "name": "ipython",
    "version": 3
   },
   "file_extension": ".py",
   "mimetype": "text/x-python",
   "name": "python",
   "nbconvert_exporter": "python",
   "pygments_lexer": "ipython3",
   "version": "3.12.7"
  }
 },
 "nbformat": 4,
 "nbformat_minor": 5
}
